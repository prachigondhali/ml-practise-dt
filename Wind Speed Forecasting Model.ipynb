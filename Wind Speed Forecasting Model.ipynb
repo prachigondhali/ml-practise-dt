{
 "cells": [
  {
   "cell_type": "markdown",
   "metadata": {},
   "source": [
    "# Wind Speed Forecasting"
   ]
  },
  {
   "cell_type": "code",
   "execution_count": null,
   "metadata": {},
   "outputs": [],
   "source": []
  },
  {
   "cell_type": "markdown",
   "metadata": {},
   "source": [
    "# Import Required Libraries"
   ]
  },
  {
   "cell_type": "code",
   "execution_count": null,
   "metadata": {},
   "outputs": [],
   "source": [
    "# Libraries\n",
    "import pandas as pd\n",
    "import numpy as np\n",
    "import matplotlib.pyplot as plt\n",
    "import sklearn\n",
    "import boto3\n",
    "import warnings\n",
    "import matplotlib\n",
    "import configparser\n",
    "import logging\n",
    "import io\n",
    "import requests\n",
    "import os\n",
    "import json\n",
    "import csv\n",
    "import psycopg2\n",
    "import datetime\n",
    "\n",
    "from docopt import docopt\n",
    "from scipy.optimize import fmin_l_bfgs_b\n",
    "from datetime import datetime as dt\n",
    "from math import sqrt\n",
    "from sklearn.metrics import mean_squared_error\n",
    "from sklearn import linear_model\n",
    "\n",
    "matplotlib.style.use('ggplot')\n",
    "warnings.filterwarnings(\"ignore\")"
   ]
  },
  {
   "cell_type": "markdown",
   "metadata": {},
   "source": [
    "# Main Method"
   ]
  },
  {
   "cell_type": "code",
   "execution_count": null,
   "metadata": {},
   "outputs": [],
   "source": [
    "def main():\n",
    "    # docopt turns command-line argument parsing on its head. \n",
    "    # Instead of parsing the arguments, you just write the usage string for your program, \n",
    "    # and docopt parses the usage string and uses it to extract the command line arguments.\n",
    "    args = docopt(__doc__)\n",
    "    \n",
    "    # Use the ConfigParser module to manage user-editable configuration files.\n",
    "    config = configparser.ConfigParser()\n",
    "    config.read('config.ini')\n",
    "    \n",
    "    # Run argument\n",
    "    run = args['--run']\n",
    "    \n",
    "    # Yield Production Endpoint\n",
    "    yeild_production_endpoint = args['--yp_endpoint']\n",
    "    \n",
    "    # Module name\n",
    "    module_name = 'hw.py'\n",
    "    \n",
    "    # Alpha, Beta, Gamma\n",
    "    alpha, beta, gamma = 0.5, 0.5, 0.5\n",
    "    print(\"Initial values of alpha, beta and gamma: \"+ alpha, beta, gamma)\n",
    "    initial_values = np.array([alpha, beta, gamma])\n",
    "    \n",
    "    # Set boundaries for alpha, beta and gamma\n",
    "    boundaries = [(0,1), (0,1), (0,1)]\n",
    "    \n",
    "    type_of_model = 'multiplicative'\n",
    "    \n",
    "    # Get turbines list\n",
    "    turbines_list = get_turbines_list()\n",
    "    \n",
    "    # Check turbine list data\n",
    "    if len(turbines_list) == 0:\n",
    "        LOGGER.warning('[%s] No turbines found for turbineid [%s] windfarm [%s] and model [%s].',\n",
    "                       MODULE_NAME, turbine_dt_id, windfarm_name, model_type)\n",
    "    \n",
    "    # Sample list\n",
    "    turbines_list = [('7890', 'DSPU01', 'E48', 'PUSHPATHUR')]\n",
    "        \n",
    "    # Validation of tubine list elements\n",
    "    #--------------To be implemented-----------------\n",
    "    for (turbine_id, scada_id, turbine_model, windfarm_location) in turbines_list:\n",
    "        \n",
    "        # Check for empty fields\n",
    "        if (str(turbine_id) == \"\" or str(scada_id) == \"\" or str(turbine_model) == \"\" or str(windfarm_location) == \"\"):\n",
    "            LOGGER.warning('None of the field should be empty')\n",
    "    \n",
    "        # Get train and test data\n",
    "        train, test = read_data(scada_id, windfarm_location)\n",
    "        \n",
    "        \n",
    "    \n",
    "if __name__ == '__main__':\n",
    "    main()"
   ]
  },
  {
   "cell_type": "markdown",
   "metadata": {},
   "source": [
    "# read_data() function"
   ]
  },
  {
   "cell_type": "code",
   "execution_count": null,
   "metadata": {},
   "outputs": [],
   "source": [
    "def read_data(scada_id, windfarm_location):\n",
    "    \n",
    "    # Data is present in s3 bucket\n",
    "    \n",
    "    \"\"\"\n",
    "    Boto is the Amazon Web Services (AWS) SDK for Python. \n",
    "    It enables Python developers to create, configure, and manage AWS services, such as EC2 and S3.\n",
    "    Boto provides an easy to use, object-oriented API, as well as low-level access to AWS services.\n",
    "    \"\"\"\n",
    "    s3 = boto3.resource('s3')\n",
    "    \n",
    "    # Data location path\n",
    "    data_path = 'yield-prediction/data/' + str(windfarm_location) + '/' + str(scada_id) + '.csv'\n",
    "    \n",
    "    # Metadata\n",
    "    metadata = s3.Object(bucket_name = 'sagemaker_digital_twin', key = data_path).get()['Body']\n",
    "    \n",
    "    # Data frame\n",
    "    df = pd.read_csv(io.BytesIO(metadata.read()))\n",
    "    \n",
    "    # Pre-process data\n",
    "    df = pre_processor(df)\n",
    "    \n",
    "    # Recent storage date\n",
    "    last_stored_datetime = ???\n",
    "    \n",
    "    # Training data period\n",
    "    start_datetime = last_stored_datetime - datetime.timedelta(hours = 4*30*24)  # (4*30*24)-> total hours in 4 months.\n",
    "    \n",
    "    # Prediction date\n",
    "    end_date = last_stored_datetime + datetime.timedelta(hours = 24)\n",
    "    \n",
    "    # Prediction period\n",
    "    prediction_period = 24\n",
    "    \n",
    "    training_data_length = len(df.loc[df.index <= last_stored_datetime])\n",
    "    \n",
    "    training_data = df.iloc[0:training_data_length, :]\n",
    "    test_data = ???\n",
    "    \n",
    "    \n",
    "    \n",
    "    \n",
    "    \n",
    "    \n",
    "    \n",
    "    "
   ]
  },
  {
   "cell_type": "markdown",
   "metadata": {},
   "source": [
    "# pre_processor() function"
   ]
  },
  {
   "cell_type": "code",
   "execution_count": null,
   "metadata": {},
   "outputs": [],
   "source": [
    "def pre_processor(df):\n",
    "    \"\"\"-------Do Something----------\"\"\"\n",
    "    return df"
   ]
  },
  {
   "cell_type": "markdown",
   "metadata": {},
   "source": [
    "# get_turbines_list() function"
   ]
  },
  {
   "cell_type": "code",
   "execution_count": null,
   "metadata": {},
   "outputs": [],
   "source": [
    "def get_turbines_list():\n",
    "    # Empty list to store assets details\n",
    "    asset_id_list = []\n",
    "    \n",
    "    # Authentication/Authorization headers\n",
    "    headers_auth = {\n",
    "        'content-type': \"application/json\",\n",
    "        'accept': \"application/json\",\n",
    "        'Authorization': getToken()\n",
    "    }\n",
    "    \n",
    "    # URL of assets\n",
    "    url = \"https://dev.dtconf.atos.net/dt-asset-service-rest-api/assets\"\n",
    "    \n",
    "    # Response \n",
    "    response = requests.get(url, headers = headers_auth)\n",
    "    \n",
    "    if response.status_code == 200:\n",
    "        try:\n",
    "            json = response.json()\n",
    "            for i in range(len(json)):\n",
    "                fabric_id = json[i]['assetID']\n",
    "                scada_id = json[i]['iotAssetID']\n",
    "                turbine_model = json[i]['modelName']\n",
    "                windfarm_location = json[i]['locationName']\n",
    "                asset_id_list.append((fabric_id, scada_id, turbine_model, windfarm_location))\n",
    "            \n",
    "        # Catch exceptions\n",
    "        except ValueError as ve:\n",
    "            LOGGER.exception('')\n",
    "            raise ve\n",
    "        except Exception as ex:\n",
    "            LOGGER.exception('[%s] JSON object does not contain required keys.', module_name)\n",
    "            raise ex\n",
    "        return asset_id_list\n",
    "    \n",
    "    # Response status code != 200\n",
    "    LOGGER.exception('[%s] Error in calling user management API. HTTP status code [%s] , HTTP reason [%s]',\n",
    "                     module_name, response.status_code, response.reason)\n",
    "    raise requests.HTTPError('Error in calling assets API')"
   ]
  }
 ],
 "metadata": {
  "kernelspec": {
   "display_name": "Python 3",
   "language": "python",
   "name": "python3"
  },
  "language_info": {
   "codemirror_mode": {
    "name": "ipython",
    "version": 3
   },
   "file_extension": ".py",
   "mimetype": "text/x-python",
   "name": "python",
   "nbconvert_exporter": "python",
   "pygments_lexer": "ipython3",
   "version": "3.7.0"
  }
 },
 "nbformat": 4,
 "nbformat_minor": 2
}
